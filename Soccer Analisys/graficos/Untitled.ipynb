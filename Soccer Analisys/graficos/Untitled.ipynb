{
 "cells": [
  {
   "cell_type": "markdown",
   "metadata": {
    "nbpresent": {
     "id": "94a8c5dd-44ed-4210-b07b-8f440ec165b5"
    }
   },
   "source": [
    "fdsfsdfsd\n",
    "fds\n",
    "fdsda\n",
    "fsddsadasdas"
   ]
  },
  {
   "cell_type": "markdown",
   "metadata": {
    "nbpresent": {
     "id": "17bbbf7e-0eeb-4527-b0bf-e51f5c8b9f51"
    }
   },
   "source": [
    "fdsfsdfs\n",
    "dasdasdasdas"
   ]
  },
  {
   "cell_type": "code",
   "execution_count": 2,
   "metadata": {
    "collapsed": false,
    "nbpresent": {
     "id": "cf19696e-60be-45b3-b645-d9c62836aee3"
    }
   },
   "outputs": [
    {
     "ename": "ERROR",
     "evalue": "Error in eval(expr, envir, enclos): objeto 'fdsfds' não encontrado\n",
     "output_type": "error",
     "traceback": [
      "Error in eval(expr, envir, enclos): objeto 'fdsfds' não encontrado\nTraceback:\n"
     ]
    }
   ],
   "source": [
    "fdsfds"
   ]
  },
  {
   "cell_type": "code",
   "execution_count": null,
   "metadata": {
    "collapsed": true,
    "nbpresent": {
     "id": "7f9d1ed1-155a-4a60-bfc2-63ad90a597eb"
    }
   },
   "outputs": [],
   "source": []
  }
 ],
 "metadata": {
  "anaconda-cloud": {},
  "kernelspec": {
   "display_name": "R",
   "language": "R",
   "name": "ir"
  },
  "language_info": {
   "codemirror_mode": "r",
   "file_extension": ".r",
   "mimetype": "text/x-r-source",
   "name": "R",
   "pygments_lexer": "r",
   "version": "3.3.1"
  },
  "nbpresent": {
   "slides": {
    "32639f6e-d27a-4190-a5be-71cffc42d653": {
     "id": "32639f6e-d27a-4190-a5be-71cffc42d653",
     "prev": null,
     "regions": {
      "652c1bc0-4718-4ae9-b589-e5e652f502be": {
       "attrs": {
        "height": 0.8,
        "width": 0.45,
        "x": 0.05,
        "y": 0.1
       },
       "id": "652c1bc0-4718-4ae9-b589-e5e652f502be"
      },
      "fe6086e2-a14e-46c7-b172-2145b22c8a91": {
       "attrs": {
        "height": 0.8,
        "width": 0.45,
        "x": 0.5,
        "y": 0.1
       },
       "id": "fe6086e2-a14e-46c7-b172-2145b22c8a91"
      }
     }
    }
   },
   "themes": {}
  }
 },
 "nbformat": 4,
 "nbformat_minor": 1
}
